{
 "cells": [
  {
   "cell_type": "markdown",
   "metadata": {},
   "source": [
    "## read_csv"
   ]
  },
  {
   "cell_type": "raw",
   "metadata": {},
   "source": []
  }
 ],
 "metadata": {
  "kernelspec": {
   "display_name": "Python 3.8.6 64-bit",
   "name": "python386jvsc74a57bd0d9af2e32a5ad6e5c5f98229481d7f4ca3d60c1f6ad52fd9ba4da285d14500705"
  },
  "language_info": {
   "name": "python",
   "nbconvert_exporter": "python",
   "version": "3.8.6-final"
  },
  "metadata": {
   "interpreter": {
    "hash": "d9af2e32a5ad6e5c5f98229481d7f4ca3d60c1f6ad52fd9ba4da285d14500705"
   }
  },
  "orig_nbformat": 2
 },
 "nbformat": 4,
 "nbformat_minor": 2
}